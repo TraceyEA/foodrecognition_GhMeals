{
 "cells": [
  {
   "cell_type": "markdown",
   "id": "42805973-3c11-43d5-83e8-c409c04ddece",
   "metadata": {},
   "source": [
    "# Importing Relevant Libraries"
   ]
  },
  {
   "cell_type": "code",
   "execution_count": null,
   "id": "ae3960c2-ee08-4002-887b-96d873038499",
   "metadata": {},
   "outputs": [
    {
     "name": "stdout",
     "output_type": "stream",
     "text": [
      "done\n"
     ]
    }
   ],
   "source": [
    "#installing & importing libraries\n",
    "\n",
    "# !pip install torch\n",
    "# !pip install opencv-python\n",
    "# !pip install torch torchvision\n",
    "\n",
    "import os\n",
    "from PIL import Image\n",
    "import torch\n",
    "from torchvision import transforms, datasets\n",
    "from torch.utils.data import DataLoader\n",
    "import torchvision\n",
    "import torch.nn as nn\n",
    "import torch.optim as optim\n",
    "from sklearn.metrics import confusion_matrix\n",
    "import seaborn as sns\n",
    "import matplotlib.pyplot as plt\n",
    "import numpy as np\n",
    "import random\n",
    "import time\n",
    "import cv2\n",
    "# import sys\n",
    "print(\"done\")"
   ]
  },
  {
   "cell_type": "code",
   "execution_count": 2,
   "id": "17f5842d-1678-493e-a0e7-125095e52d8a",
   "metadata": {},
   "outputs": [],
   "source": [
    "# setting the random values as static for reproducibility\n",
    "random_seed = 42;\n",
    "torch.manual_seed(random_seed)\n",
    "torch.cuda.manual_seed(random_seed)\n",
    "torch.backends.cudnn.deterministic = True\n",
    "torch.backends.cudnn.benchmark = False\n",
    "np.random.seed(random_seed)\n",
    "random.seed(random_seed)"
   ]
  },
  {
   "cell_type": "code",
   "execution_count": 3,
   "id": "ebea0f6c-3a4a-4da5-aed5-084d81b54013",
   "metadata": {},
   "outputs": [],
   "source": [
    "# # My list of class names\n",
    "# class_names = [\n",
    "#     \"Banku\", \"Banku_and_pepper\", \"Banku_and_soup\", \"Beans and Plantain\", \"boiled yam\",\n",
    "#     \"fried rice\", \"fufu\", \"jollof\", \"plainrice\", \"rice and stew\",\"waakye\"]"
   ]
  },
  {
   "cell_type": "markdown",
   "id": "f8fb7bb5-9ffd-43d2-b6bf-4751fd427acb",
   "metadata": {},
   "source": [
    "# Food Image Dataset"
   ]
  },
  {
   "cell_type": "code",
   "execution_count": 4,
   "id": "69cd509b-5fa6-49b7-bba9-0aa679efb09a",
   "metadata": {},
   "outputs": [
    {
     "name": "stdout",
     "output_type": "stream",
     "text": [
      "Training images: 612\n",
      "Validation images: 110\n"
     ]
    }
   ],
   "source": [
    "class FoodImagesDataset:\n",
    "    \"\"\"Custom dataset for food images.\"\"\"\n",
    "    def __init__(self, root=\"./data\", batch_size=64, resize=(28, 28)):\n",
    "        self.root = root\n",
    "        self.batch_size = batch_size\n",
    "        self.resize = resize\n",
    "        self.trans = transforms.Compose([\n",
    "            transforms.Resize(self.resize),\n",
    "            transforms.ToTensor()\n",
    "        ])\n",
    "        self.train = torchvision.datasets.ImageFolder(\n",
    "            root=self.root + \"/food_images_train\", transform=self.trans)\n",
    "        self.val = torchvision.datasets.ImageFolder(\n",
    "            root=self.root + \"/food_images_val\", transform=self.trans)\n",
    "        \n",
    "    def __len__(self):\n",
    "        return len(self.train)\n",
    "\n",
    "data_set = FoodImagesDataset(root=\"./\", resize=(32, 32))\n",
    "print(\"Training images: \" + str(len(data_set.train)))\n",
    "print(\"Validation images: \" + str(len(data_set.val)))"
   ]
  },
  {
   "cell_type": "markdown",
   "id": "c8464cb5-916b-4f54-8909-f1cf500305e9",
   "metadata": {},
   "source": [
    "# Neural Network Model"
   ]
  },
  {
   "cell_type": "code",
   "execution_count": 5,
   "id": "a3bbb7fa-7dae-4611-9d84-d0e417f1e48c",
   "metadata": {},
   "outputs": [
    {
     "name": "stdout",
     "output_type": "stream",
     "text": [
      "Class names: ['banku', 'banku_and_pepper', 'banku_and_soup', 'beans_and_plantain', 'boiled_yam', 'fried_rice', 'fufu', 'jollof', 'plain_rice', 'rice_and_stew', 'waakye']\n"
     ]
    }
   ],
   "source": [
    "# Loading the training dataset to get class names\n",
    "train_dataset = datasets.ImageFolder(root='food_images_train', transform=transforms.Compose([\n",
    "    transforms.Resize((32, 32)),\n",
    "    transforms.ToTensor(),\n",
    "    transforms.Normalize((0.5, 0.5, 0.5), (0.5, 0.5, 0.5))\n",
    "\n",
    "]))\n",
    "\n",
    "# Get class names from the training dataset\n",
    "class_names = train_dataset.classes\n",
    "print(f\"Class names: {class_names}\")"
   ]
  },
  {
   "cell_type": "code",
   "execution_count": 6,
   "id": "75f61380-60b4-4225-bf91-989e758ba10a",
   "metadata": {},
   "outputs": [],
   "source": [
    "class MyModel(nn.Module):\n",
    "    def __init__(self):\n",
    "        super(MyModel, self).__init__()\n",
    "        self.conv1 = nn.Conv2d(3, 32, kernel_size=3, padding=1)\n",
    "        self.pool = nn.MaxPool2d(2, 2)\n",
    "        self.conv2 = nn.Conv2d(32, 64, kernel_size=3, padding=1)\n",
    "        self.fc1 = nn.Linear(64 * 8 * 8, 128)\n",
    "        self.fc2 = nn.Linear(128, 12) \n",
    "\n",
    "    def forward(self, x):\n",
    "        x = self.pool(nn.functional.relu(self.conv1(x)))\n",
    "        x = self.pool(nn.functional.relu(self.conv2(x)))\n",
    "        x = x.view(-1, 64 * 8 * 8)\n",
    "        x = nn.functional.relu(self.fc1(x))\n",
    "        x = self.fc2(x)\n",
    "        return x"
   ]
  },
  {
   "cell_type": "markdown",
   "id": "28e38806-b5f5-4518-b091-0be2ae4d5f17",
   "metadata": {},
   "source": [
    "# Parameters"
   ]
  },
  {
   "cell_type": "code",
   "execution_count": 7,
   "id": "8010b093-695c-4ea2-945a-e297a949c157",
   "metadata": {},
   "outputs": [],
   "source": [
    "# Initializing my model\n",
    "model = MyModel()\n",
    "\n",
    "# Defining my loss function and optimizers\n",
    "criterion = nn.CrossEntropyLoss()\n",
    "optimizer = optim.SGD(model.parameters(), lr=0.01, momentum=0.9)\n",
    "\n",
    "# Creating my data loaders\n",
    "batch_size = 32\n",
    "train_loader = DataLoader(data_set.train, batch_size=batch_size, shuffle=True)\n",
    "val_loader = DataLoader(data_set.val, batch_size=batch_size, shuffle=False)\n",
    "\n",
    "#defining my number of epochs\n",
    "num_epochs = 40"
   ]
  },
  {
   "cell_type": "markdown",
   "id": "ad0732a2-1cd9-4ae8-b54f-2b37b681bffa",
   "metadata": {},
   "source": [
    "# Training & Validation"
   ]
  },
  {
   "cell_type": "code",
   "execution_count": 8,
   "id": "d493a70f-f854-4e76-aefb-ebe044ae4d14",
   "metadata": {},
   "outputs": [
    {
     "name": "stdout",
     "output_type": "stream",
     "text": [
      "Epoch [1/40], Loss: 2.4633\n",
      "Epoch [2/40], Loss: 2.3806\n",
      "Epoch [3/40], Loss: 2.3733\n",
      "Epoch [4/40], Loss: 2.3311\n",
      "Epoch [5/40], Loss: 2.2379\n",
      "Epoch [6/40], Loss: 2.0601\n",
      "Epoch [7/40], Loss: 2.0273\n",
      "Epoch [8/40], Loss: 1.9179\n",
      "Epoch [9/40], Loss: 1.8916\n",
      "Epoch [10/40], Loss: 1.8441\n",
      "Epoch [11/40], Loss: 1.7548\n",
      "Epoch [12/40], Loss: 1.6983\n",
      "Epoch [13/40], Loss: 1.6230\n",
      "Epoch [14/40], Loss: 1.6834\n",
      "Epoch [15/40], Loss: 1.4931\n",
      "Epoch [16/40], Loss: 1.3664\n",
      "Epoch [17/40], Loss: 1.3444\n",
      "Epoch [18/40], Loss: 1.2694\n",
      "Epoch [19/40], Loss: 1.0702\n",
      "Epoch [20/40], Loss: 0.9947\n",
      "Epoch [21/40], Loss: 1.0431\n",
      "Epoch [22/40], Loss: 0.8403\n",
      "Epoch [23/40], Loss: 0.8409\n",
      "Epoch [24/40], Loss: 0.7386\n",
      "Epoch [25/40], Loss: 0.6714\n",
      "Epoch [26/40], Loss: 0.6382\n",
      "Epoch [27/40], Loss: 0.5654\n",
      "Epoch [28/40], Loss: 0.5112\n",
      "Epoch [29/40], Loss: 0.5340\n",
      "Epoch [30/40], Loss: 0.4386\n",
      "Epoch [31/40], Loss: 0.3446\n",
      "Epoch [32/40], Loss: 0.2338\n",
      "Epoch [33/40], Loss: 0.2055\n",
      "Epoch [34/40], Loss: 0.1882\n",
      "Epoch [35/40], Loss: 0.1219\n",
      "Epoch [36/40], Loss: 0.0699\n",
      "Epoch [37/40], Loss: 0.0730\n",
      "Epoch [38/40], Loss: 0.0712\n",
      "Epoch [39/40], Loss: 0.0456\n",
      "Epoch [40/40], Loss: 0.0278\n",
      "Finished Training in 250.58 seconds\n"
     ]
    }
   ],
   "source": [
    "# Training loop\n",
    "start_time = time.time() #time the training\n",
    "for epoch in range(num_epochs):\n",
    "    running_loss = 0.0\n",
    "    for i, data in enumerate(train_loader, 0):\n",
    "        inputs, labels = data\n",
    "        optimizer.zero_grad()\n",
    "        outputs = model(inputs)\n",
    "        loss = criterion(outputs, labels)\n",
    "        loss.backward()\n",
    "        optimizer.step()\n",
    "        running_loss += loss.item()\n",
    "\n",
    "    print(f'Epoch [{epoch + 1}/{num_epochs}], Loss: {running_loss / len(train_loader):.4f}')\n",
    "\n",
    "# End timing\n",
    "end_time = time.time()\n",
    "\n",
    "# Calculate the total time \n",
    "total_time = end_time - start_time\n",
    "print(f'Finished Training in {total_time:.2f} seconds')"
   ]
  },
  {
   "cell_type": "code",
   "execution_count": 9,
   "id": "9eabcea7-97ba-46bb-bf7f-4f1a4531bd43",
   "metadata": {},
   "outputs": [
    {
     "name": "stdout",
     "output_type": "stream",
     "text": [
      "Validation Accuracy: 98.18%\n"
     ]
    }
   ],
   "source": [
    "# Validation loop\n",
    "correct = 0\n",
    "total = 0\n",
    "with torch.no_grad():\n",
    "    for data in val_loader:\n",
    "        images, labels = data\n",
    "        outputs = model(images)\n",
    "        _, predicted = torch.max(outputs.data, 1)\n",
    "        total += labels.size(0)\n",
    "        correct += (predicted == labels).sum().item()\n",
    "\n",
    "    accuracy = 100 * correct / total\n",
    "    print(f'Validation Accuracy: {accuracy:.2f}%')"
   ]
  },
  {
   "cell_type": "markdown",
   "id": "57ed15b5-371a-4495-98f0-cf39faab9e08",
   "metadata": {},
   "source": [
    "# Evaluate performance on validation set"
   ]
  },
  {
   "cell_type": "code",
   "execution_count": 10,
   "id": "4645faa8-969b-4c02-91ee-60a21293b522",
   "metadata": {},
   "outputs": [],
   "source": [
    "def get_all_predictions_and_labels(model, dataloader):\n",
    "    model.eval()\n",
    "    all_predictions = []\n",
    "    all_labels = []\n",
    "    \n",
    "    with torch.no_grad():\n",
    "        for images, labels in dataloader:\n",
    "            outputs = model(images)\n",
    "            _, predicted = torch.max(outputs, 1)\n",
    "            all_predictions.extend(predicted.cpu().numpy())\n",
    "            all_labels.extend(labels.cpu().numpy())\n",
    "    \n",
    "    return all_predictions, all_labels\n"
   ]
  },
  {
   "cell_type": "code",
   "execution_count": 11,
   "id": "583cc9f0-679a-427c-9b55-f468004b3a7d",
   "metadata": {},
   "outputs": [
    {
     "data": {
      "image/png": "[encoded data removed]",
      "text/plain": [
       "<Figure size 1000x800 with 2 Axes>"
      ]
     },
     "metadata": {},
     "output_type": "display_data"
    }
   ],
   "source": [
    "#confusion matrix on validation set\n",
    "def plot_confusion_matrix(cm, class_names):\n",
    "    plt.figure(figsize=(10, 8))\n",
    "    sns.heatmap(cm, annot=True, fmt='d', cmap='Blues', xticklabels=class_names, yticklabels=class_names)\n",
    "    plt.xlabel('Predicted labels')\n",
    "    plt.ylabel('True labels')\n",
    "    plt.title('Confusion Matrix')\n",
    "    plt.show()\n",
    "\n",
    "all_predictions, all_labels = get_all_predictions_and_labels(model, val_loader)\n",
    "\n",
    "cm = confusion_matrix(all_labels, all_predictions)\n",
    "\n",
    "# Plot confusion matrix\n",
    "plot_confusion_matrix(cm, class_names)"
   ]
  },
  {
   "cell_type": "markdown",
   "id": "22d6f1b7-7513-41d0-8ebc-f6377ab4f0ed",
   "metadata": {},
   "source": [
    "# Predicting From a Directory"
   ]
  },
  {
   "cell_type": "code",
   "execution_count": 12,
   "id": "a3fa1a49-eea8-41e7-9029-c15daa7b44ac",
   "metadata": {},
   "outputs": [],
   "source": [
    "#function to make predictions on the test set\n",
    "def predict_labels_with_filenames(model, image_folder, transform):\n",
    "    predictions = []\n",
    "    image_files = os.listdir(image_folder)\n",
    "    predictions_dict = {}\n",
    "    \n",
    "    for img_file in image_files:\n",
    "        img_path = os.path.join(image_folder, img_file)\n",
    "        \n",
    "        if os.path.isdir(img_path):\n",
    "            print(f\"Skipping directory: {img_path}\")\n",
    "            continue\n",
    "        \n",
    "        try:\n",
    "            image = Image.open(img_path).convert(\"RGB\")\n",
    "            image = transform(image).unsqueeze(0)  # Add batch dimension\n",
    "            \n",
    "            with torch.no_grad():\n",
    "                output = model(image)\n",
    "            \n",
    "            _, predicted = torch.max(output, 1)\n",
    "            predicted_label = predicted.item()\n",
    "            predicted_class_name = class_names[predicted_label]\n",
    "            \n",
    "            predictions_dict[img_file] = {\n",
    "                'predicted_label': predicted_label,\n",
    "                'predicted_class_name': predicted_class_name\n",
    "            }\n",
    "            \n",
    "        except Exception as e:\n",
    "            print(f\"Error processing {img_path}: {e}\")\n",
    "    \n",
    "    return predictions_dict"
   ]
  },
  {
   "cell_type": "code",
   "execution_count": 13,
   "id": "c31c7e2d-55d8-4200-ad2b-5330d67a2d1d",
   "metadata": {},
   "outputs": [
    {
     "name": "stdout",
     "output_type": "stream",
     "text": [
      "Image: randomim.jpg, Predicted Label: 10, Class Name: waakye\n",
      "Image: 56.jpeg, Predicted Label: 2, Class Name: banku_and_soup\n",
      "Image: 34.jpeg, Predicted Label: 2, Class Name: banku_and_soup\n",
      "Image: 4.jpeg, Predicted Label: 3, Class Name: beans_and_plantain\n",
      "Image: image.jpeg, Predicted Label: 7, Class Name: jollof\n",
      "Image: 2.jpeg, Predicted Label: 0, Class Name: banku\n",
      "Image: 44.png, Predicted Label: 7, Class Name: jollof\n"
     ]
    }
   ],
   "source": [
    "# images to be labelled\n",
    "image_folder = \"food_images_test\"\n",
    "\n",
    "# image transform\n",
    "transform = transforms.Compose([\n",
    "    transforms.Resize((32, 32)),\n",
    "    transforms.ToTensor()\n",
    "])\n",
    "\n",
    "model.eval()\n",
    "\n",
    "predictions_with_filenames = predict_labels_with_filenames(model, image_folder, transform)\n",
    "\n",
    "# Displaying the predictions\n",
    "for img_file, info in predictions_with_filenames.items():\n",
    "    print(f\"Image: {img_file}, Predicted Label: {info['predicted_label']}, Class Name: {info['predicted_class_name']}\")"
   ]
  },
  {
   "cell_type": "markdown",
   "id": "52137dcc-adeb-4e55-b829-1d3476a004af",
   "metadata": {},
   "source": [
    "# Predicting the Captured Image"
   ]
  },
  {
   "cell_type": "code",
   "execution_count": 14,
   "id": "28560df7-76c9-4cf8-97d5-0378a9102005",
   "metadata": {},
   "outputs": [
    {
     "name": "stdout",
     "output_type": "stream",
     "text": [
      "Error processing ./Capstone_App/new_images/.DS_Store: cannot identify image file './Capstone_App/new_images/.DS_Store'\n",
      "Text has been written to ./Capstone_App/output.txt\n"
     ]
    }
   ],
   "source": [
    "#predict from an input image and save prediction to a file\n",
    "def predict_saved():\n",
    "    image_folder = \"./Capstone_App/new_images\"\n",
    "    transform = transforms.Compose([\n",
    "        transforms.Resize((32, 32)),\n",
    "        transforms.ToTensor()\n",
    "    ])\n",
    "    \n",
    "    model.eval()\n",
    "    \n",
    "    predictions_with_filenames = predict_labels_with_filenames(model, image_folder, transform)\n",
    "    \n",
    "    # Display the predictions\n",
    "    for img_file, info in predictions_with_filenames.items():\n",
    "        print(f\"Image: {img_file}, Predicted Label: {info['predicted_label']}, Class Name: {info['predicted_class_name']}\")\n",
    "    \n",
    "    # write the prediction to a file\n",
    "    text = \"\\n\".join([f\"Image: {img_file}, Predicted Label: {info['predicted_label']}, Class Name: {info['predicted_class_name']}\" for img_file, info in predictions_with_filenames.items()])\n",
    "    file_path = \"./Capstone_App/output.txt\"\n",
    "    with open(file_path, 'w') as file:\n",
    "        file.write(text)\n",
    "    \n",
    "    print(f\"Text has been written to {file_path}\")\n",
    "\n",
    "predict_saved()\n",
    "\n"
   ]
  }
 ],
 "metadata": {
  "kernelspec": {
   "display_name": "Python 3 (ipykernel)",
   "language": "python",
   "name": "python3"
  },
  "language_info": {
   "codemirror_mode": {
    "name": "ipython",
    "version": 3
   },
   "file_extension": ".py",
   "mimetype": "text/x-python",
   "name": "python",
   "nbconvert_exporter": "python",
   "pygments_lexer": "ipython3",
   "version": "3.9.18"
  }
 },
 "nbformat": 4,
 "nbformat_minor": 5
}
